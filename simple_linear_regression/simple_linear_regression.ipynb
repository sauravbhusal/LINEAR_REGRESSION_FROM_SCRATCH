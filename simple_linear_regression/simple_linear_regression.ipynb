{
 "cells": [
  {
   "cell_type": "code",
   "execution_count": 253,
   "id": "bb11459c",
   "metadata": {},
   "outputs": [],
   "source": [
    "#importing required libraries\n",
    "import pandas as pd\n",
    "import numpy as np\n",
    "import matplotlib.pyplot as plt\n",
    "#import seaborn as sns"
   ]
  },
  {
   "cell_type": "code",
   "execution_count": 254,
   "id": "39be6382",
   "metadata": {},
   "outputs": [],
   "source": [
    "#importing data from txt file, converting it into csv, converting sets\n",
    "#of data into dataframe and adding header to each columns\n",
    "data = pd.read_csv('./simple_data.txt')#delim_whitespace=False\n",
    "data.to_csv('simple_data.csv')\n",
    "df = pd.DataFrame(data)\n",
    "df.columns = ['population_in_1k', 'profit_in_1k']"
   ]
  },
  {
   "cell_type": "code",
   "execution_count": 255,
   "id": "2b8574cc",
   "metadata": {},
   "outputs": [
    {
     "data": {
      "text/html": [
       "<div>\n",
       "<style scoped>\n",
       "    .dataframe tbody tr th:only-of-type {\n",
       "        vertical-align: middle;\n",
       "    }\n",
       "\n",
       "    .dataframe tbody tr th {\n",
       "        vertical-align: top;\n",
       "    }\n",
       "\n",
       "    .dataframe thead th {\n",
       "        text-align: right;\n",
       "    }\n",
       "</style>\n",
       "<table border=\"1\" class=\"dataframe\">\n",
       "  <thead>\n",
       "    <tr style=\"text-align: right;\">\n",
       "      <th></th>\n",
       "      <th>population_in_1k</th>\n",
       "      <th>profit_in_1k</th>\n",
       "    </tr>\n",
       "  </thead>\n",
       "  <tbody>\n",
       "    <tr>\n",
       "      <th>0</th>\n",
       "      <td>5.5277</td>\n",
       "      <td>9.13020</td>\n",
       "    </tr>\n",
       "    <tr>\n",
       "      <th>1</th>\n",
       "      <td>8.5186</td>\n",
       "      <td>13.66200</td>\n",
       "    </tr>\n",
       "    <tr>\n",
       "      <th>2</th>\n",
       "      <td>7.0032</td>\n",
       "      <td>11.85400</td>\n",
       "    </tr>\n",
       "    <tr>\n",
       "      <th>3</th>\n",
       "      <td>5.8598</td>\n",
       "      <td>6.82330</td>\n",
       "    </tr>\n",
       "    <tr>\n",
       "      <th>4</th>\n",
       "      <td>8.3829</td>\n",
       "      <td>11.88600</td>\n",
       "    </tr>\n",
       "    <tr>\n",
       "      <th>...</th>\n",
       "      <td>...</td>\n",
       "      <td>...</td>\n",
       "    </tr>\n",
       "    <tr>\n",
       "      <th>91</th>\n",
       "      <td>5.8707</td>\n",
       "      <td>7.20290</td>\n",
       "    </tr>\n",
       "    <tr>\n",
       "      <th>92</th>\n",
       "      <td>5.3054</td>\n",
       "      <td>1.98690</td>\n",
       "    </tr>\n",
       "    <tr>\n",
       "      <th>93</th>\n",
       "      <td>8.2934</td>\n",
       "      <td>0.14454</td>\n",
       "    </tr>\n",
       "    <tr>\n",
       "      <th>94</th>\n",
       "      <td>13.3940</td>\n",
       "      <td>9.05510</td>\n",
       "    </tr>\n",
       "    <tr>\n",
       "      <th>95</th>\n",
       "      <td>5.4369</td>\n",
       "      <td>0.61705</td>\n",
       "    </tr>\n",
       "  </tbody>\n",
       "</table>\n",
       "<p>96 rows × 2 columns</p>\n",
       "</div>"
      ],
      "text/plain": [
       "    population_in_1k  profit_in_1k\n",
       "0             5.5277       9.13020\n",
       "1             8.5186      13.66200\n",
       "2             7.0032      11.85400\n",
       "3             5.8598       6.82330\n",
       "4             8.3829      11.88600\n",
       "..               ...           ...\n",
       "91            5.8707       7.20290\n",
       "92            5.3054       1.98690\n",
       "93            8.2934       0.14454\n",
       "94           13.3940       9.05510\n",
       "95            5.4369       0.61705\n",
       "\n",
       "[96 rows x 2 columns]"
      ]
     },
     "execution_count": 255,
     "metadata": {},
     "output_type": "execute_result"
    }
   ],
   "source": [
    "#visualizing dataframe\n",
    "df"
   ]
  },
  {
   "cell_type": "code",
   "execution_count": 256,
   "id": "94034f03",
   "metadata": {},
   "outputs": [],
   "source": [
    "#array = np.loadtxt('df', delimiter=False)\n",
    "X = df['population_in_1k'].to_numpy()\n",
    "y = df['profit_in_1k'].to_numpy()\n",
    "array = df.to_numpy()"
   ]
  },
  {
   "cell_type": "code",
   "execution_count": 257,
   "id": "9d01a56e",
   "metadata": {},
   "outputs": [
    {
     "data": {
      "text/plain": [
       "array([ 5.5277,  8.5186,  7.0032,  5.8598,  8.3829,  7.4764,  8.5781,\n",
       "        6.4862,  5.0546,  5.7107, 14.164 ,  5.734 ,  8.4084,  5.6407,\n",
       "        5.3794,  6.3654,  5.1301,  6.4296,  7.0708,  6.1891, 20.27  ,\n",
       "        5.4901,  6.3261,  5.5649, 18.945 , 12.828 , 10.957 , 13.176 ,\n",
       "       22.203 ,  5.2524,  6.5894,  9.2482,  5.8918,  8.2111,  7.9334,\n",
       "        8.0959,  5.6063, 12.836 ,  6.3534,  5.4069,  6.8825, 11.708 ,\n",
       "        5.7737,  7.8247,  7.0931,  5.0702,  5.8014, 11.7   ,  5.5416,\n",
       "        7.5402,  5.3077,  7.4239,  7.6031,  6.3328,  6.3589,  6.2742,\n",
       "        5.6397,  9.3102,  9.4536,  8.8254,  5.1793, 21.279 , 14.908 ,\n",
       "       18.959 ,  7.2182,  8.2951, 10.236 ,  5.4994, 20.341 , 10.136 ,\n",
       "        7.3345,  6.0062,  7.2259,  5.0269,  6.5479,  7.5386,  5.0365,\n",
       "       10.274 ,  5.1077,  5.7292,  5.1884,  6.3557,  9.7687,  6.5159,\n",
       "        8.5172,  9.1802,  6.002 ,  5.5204,  5.0594,  5.7077,  7.6366,\n",
       "        5.8707,  5.3054,  8.2934, 13.394 ,  5.4369])"
      ]
     },
     "execution_count": 257,
     "metadata": {},
     "output_type": "execute_result"
    }
   ],
   "source": [
    "X"
   ]
  },
  {
   "cell_type": "code",
   "execution_count": 258,
   "id": "83ea549a",
   "metadata": {},
   "outputs": [
    {
     "data": {
      "text/plain": [
       "array([ 9.1302 , 13.662  , 11.854  ,  6.8233 , 11.886  ,  4.3483 ,\n",
       "       12.     ,  6.5987 ,  3.8166 ,  3.2522 , 15.505  ,  3.1551 ,\n",
       "        7.2258 ,  0.71618,  3.5129 ,  5.3048 ,  0.56077,  3.6518 ,\n",
       "        5.3893 ,  3.1386 , 21.767  ,  4.263  ,  5.1875 ,  3.0825 ,\n",
       "       22.638  , 13.501  ,  7.0467 , 14.692  , 24.147  , -1.22   ,\n",
       "        5.9966 , 12.134  ,  1.8495 ,  6.5426 ,  4.5623 ,  4.1164 ,\n",
       "        3.3928 , 10.117  ,  5.4974 ,  0.55657,  3.9115 ,  5.3854 ,\n",
       "        2.4406 ,  6.7318 ,  1.0463 ,  5.1337 ,  1.844  ,  8.0043 ,\n",
       "        1.0179 ,  6.7504 ,  1.8396 ,  4.2885 ,  4.9981 ,  1.4233 ,\n",
       "       -1.4211 ,  2.4756 ,  4.6042 ,  3.9624 ,  5.4141 ,  5.1694 ,\n",
       "       -0.74279, 17.929  , 12.054  , 17.054  ,  4.8852 ,  5.7442 ,\n",
       "        7.7754 ,  1.0173 , 20.992  ,  6.6799 ,  4.0259 ,  1.2784 ,\n",
       "        3.3411 , -2.6807 ,  0.29678,  3.8845 ,  5.7014 ,  6.7526 ,\n",
       "        2.0576 ,  0.47953,  0.20421,  0.67861,  7.5435 ,  5.3436 ,\n",
       "        4.2415 ,  6.7981 ,  0.92695,  0.152  ,  2.8214 ,  1.8451 ,\n",
       "        4.2959 ,  7.2029 ,  1.9869 ,  0.14454,  9.0551 ,  0.61705])"
      ]
     },
     "execution_count": 258,
     "metadata": {},
     "output_type": "execute_result"
    }
   ],
   "source": [
    "y"
   ]
  },
  {
   "cell_type": "code",
   "execution_count": 259,
   "id": "41834384",
   "metadata": {},
   "outputs": [
    {
     "data": {
      "text/plain": [
       "array([[ 5.5277 ,  9.1302 ],\n",
       "       [ 8.5186 , 13.662  ],\n",
       "       [ 7.0032 , 11.854  ],\n",
       "       [ 5.8598 ,  6.8233 ],\n",
       "       [ 8.3829 , 11.886  ],\n",
       "       [ 7.4764 ,  4.3483 ],\n",
       "       [ 8.5781 , 12.     ],\n",
       "       [ 6.4862 ,  6.5987 ],\n",
       "       [ 5.0546 ,  3.8166 ],\n",
       "       [ 5.7107 ,  3.2522 ],\n",
       "       [14.164  , 15.505  ],\n",
       "       [ 5.734  ,  3.1551 ],\n",
       "       [ 8.4084 ,  7.2258 ],\n",
       "       [ 5.6407 ,  0.71618],\n",
       "       [ 5.3794 ,  3.5129 ],\n",
       "       [ 6.3654 ,  5.3048 ],\n",
       "       [ 5.1301 ,  0.56077],\n",
       "       [ 6.4296 ,  3.6518 ],\n",
       "       [ 7.0708 ,  5.3893 ],\n",
       "       [ 6.1891 ,  3.1386 ],\n",
       "       [20.27   , 21.767  ],\n",
       "       [ 5.4901 ,  4.263  ],\n",
       "       [ 6.3261 ,  5.1875 ],\n",
       "       [ 5.5649 ,  3.0825 ],\n",
       "       [18.945  , 22.638  ],\n",
       "       [12.828  , 13.501  ],\n",
       "       [10.957  ,  7.0467 ],\n",
       "       [13.176  , 14.692  ],\n",
       "       [22.203  , 24.147  ],\n",
       "       [ 5.2524 , -1.22   ],\n",
       "       [ 6.5894 ,  5.9966 ],\n",
       "       [ 9.2482 , 12.134  ],\n",
       "       [ 5.8918 ,  1.8495 ],\n",
       "       [ 8.2111 ,  6.5426 ],\n",
       "       [ 7.9334 ,  4.5623 ],\n",
       "       [ 8.0959 ,  4.1164 ],\n",
       "       [ 5.6063 ,  3.3928 ],\n",
       "       [12.836  , 10.117  ],\n",
       "       [ 6.3534 ,  5.4974 ],\n",
       "       [ 5.4069 ,  0.55657],\n",
       "       [ 6.8825 ,  3.9115 ],\n",
       "       [11.708  ,  5.3854 ],\n",
       "       [ 5.7737 ,  2.4406 ],\n",
       "       [ 7.8247 ,  6.7318 ],\n",
       "       [ 7.0931 ,  1.0463 ],\n",
       "       [ 5.0702 ,  5.1337 ],\n",
       "       [ 5.8014 ,  1.844  ],\n",
       "       [11.7    ,  8.0043 ],\n",
       "       [ 5.5416 ,  1.0179 ],\n",
       "       [ 7.5402 ,  6.7504 ],\n",
       "       [ 5.3077 ,  1.8396 ],\n",
       "       [ 7.4239 ,  4.2885 ],\n",
       "       [ 7.6031 ,  4.9981 ],\n",
       "       [ 6.3328 ,  1.4233 ],\n",
       "       [ 6.3589 , -1.4211 ],\n",
       "       [ 6.2742 ,  2.4756 ],\n",
       "       [ 5.6397 ,  4.6042 ],\n",
       "       [ 9.3102 ,  3.9624 ],\n",
       "       [ 9.4536 ,  5.4141 ],\n",
       "       [ 8.8254 ,  5.1694 ],\n",
       "       [ 5.1793 , -0.74279],\n",
       "       [21.279  , 17.929  ],\n",
       "       [14.908  , 12.054  ],\n",
       "       [18.959  , 17.054  ],\n",
       "       [ 7.2182 ,  4.8852 ],\n",
       "       [ 8.2951 ,  5.7442 ],\n",
       "       [10.236  ,  7.7754 ],\n",
       "       [ 5.4994 ,  1.0173 ],\n",
       "       [20.341  , 20.992  ],\n",
       "       [10.136  ,  6.6799 ],\n",
       "       [ 7.3345 ,  4.0259 ],\n",
       "       [ 6.0062 ,  1.2784 ],\n",
       "       [ 7.2259 ,  3.3411 ],\n",
       "       [ 5.0269 , -2.6807 ],\n",
       "       [ 6.5479 ,  0.29678],\n",
       "       [ 7.5386 ,  3.8845 ],\n",
       "       [ 5.0365 ,  5.7014 ],\n",
       "       [10.274  ,  6.7526 ],\n",
       "       [ 5.1077 ,  2.0576 ],\n",
       "       [ 5.7292 ,  0.47953],\n",
       "       [ 5.1884 ,  0.20421],\n",
       "       [ 6.3557 ,  0.67861],\n",
       "       [ 9.7687 ,  7.5435 ],\n",
       "       [ 6.5159 ,  5.3436 ],\n",
       "       [ 8.5172 ,  4.2415 ],\n",
       "       [ 9.1802 ,  6.7981 ],\n",
       "       [ 6.002  ,  0.92695],\n",
       "       [ 5.5204 ,  0.152  ],\n",
       "       [ 5.0594 ,  2.8214 ],\n",
       "       [ 5.7077 ,  1.8451 ],\n",
       "       [ 7.6366 ,  4.2959 ],\n",
       "       [ 5.8707 ,  7.2029 ],\n",
       "       [ 5.3054 ,  1.9869 ],\n",
       "       [ 8.2934 ,  0.14454],\n",
       "       [13.394  ,  9.0551 ],\n",
       "       [ 5.4369 ,  0.61705]])"
      ]
     },
     "execution_count": 259,
     "metadata": {},
     "output_type": "execute_result"
    }
   ],
   "source": [
    "array"
   ]
  },
  {
   "cell_type": "code",
   "execution_count": 260,
   "id": "307e42ea",
   "metadata": {},
   "outputs": [],
   "source": [
    "#feature normalization\n",
    "X = X/(np.max(X))"
   ]
  },
  {
   "cell_type": "code",
   "execution_count": 261,
   "id": "a84f9c85",
   "metadata": {},
   "outputs": [
    {
     "data": {
      "image/png": "[encoded data removed]",
      "text/plain": [
       "<Figure size 640x480 with 1 Axes>"
      ]
     },
     "metadata": {},
     "output_type": "display_data"
    }
   ],
   "source": [
    "#data observation\n",
    "plt.plot(X,y,'rx')\n",
    "plt.xlabel('population')\n",
    "plt.ylabel('profit')\n",
    "plt.title('population_vs_profit')\n",
    "plt.grid()\n",
    "plt.show()"
   ]
  },
  {
   "cell_type": "code",
   "execution_count": 262,
   "id": "e92f777b",
   "metadata": {},
   "outputs": [],
   "source": [
    "#defining cost function\n",
    "def computecost(x,y,theta):\n",
    "    j = np.sum(((x@theta)-y)**2)/(2*m)\n",
    "    return j"
   ]
  },
  {
   "cell_type": "code",
   "execution_count": 300,
   "id": "9f542de6",
   "metadata": {},
   "outputs": [],
   "source": [
    "#initializing parameters\n",
    "m = np.size(y)\n",
    "X = X.reshape([m,1])\n",
    "y = y.reshape(m,1)\n",
    "x = np.hstack([np.ones_like(X),X])\n",
    "theta = np.zeros([2,1])"
   ]
  },
  {
   "cell_type": "code",
   "execution_count": 301,
   "id": "a4d5844b",
   "metadata": {},
   "outputs": [
    {
     "name": "stdout",
     "output_type": "stream",
     "text": [
      "30.79495785534583\n"
     ]
    }
   ],
   "source": [
    "print(computecost(x,y,theta))"
   ]
  },
  {
   "cell_type": "code",
   "execution_count": 303,
   "id": "9bb520e3",
   "metadata": {},
   "outputs": [],
   "source": [
    "#gradient descent algorithm\n",
    "def gradient(x,y,theta):\n",
    "    alpha = 0.001   #learning rate\n",
    "    iteration = 200\n",
    "    j_history = np.zeros([iteration,1])\n",
    "\n",
    "    for iter in range (0,iteration):\n",
    "        error = (x @ theta) - y\n",
    "        temp0 = theta[0] - ((alpha/m) * np.sum(error*x[:,0]))\n",
    "        temp1 = theta[1] - ((alpha/m) * np.sum(error*x[:,1]))\n",
    "        theta = np.array([temp0, temp1]).reshape(2,1)\n",
    "        j_history[iter] = computecost(x,y,theta)\n",
    "    return theta,j_history"
   ]
  },
  {
   "cell_type": "code",
   "execution_count": 304,
   "id": "15dca5e1",
   "metadata": {},
   "outputs": [],
   "source": [
    "theta, J = gradient(x,y,theta)\n",
    "    "
   ]
  },
  {
   "cell_type": "code",
   "execution_count": 305,
   "id": "9140e17a",
   "metadata": {},
   "outputs": [
    {
     "data": {
      "text/plain": [
       "array([[5.03333133],\n",
       "       [1.85463423]])"
      ]
     },
     "execution_count": 305,
     "metadata": {},
     "output_type": "execute_result"
    }
   ],
   "source": [
    "theta"
   ]
  },
  {
   "cell_type": "code",
   "execution_count": 306,
   "id": "e8edb87a",
   "metadata": {},
   "outputs": [
    {
     "data": {
      "image/png": "[encoded data removed]",
      "text/plain": [
       "<Figure size 640x480 with 1 Axes>"
      ]
     },
     "metadata": {},
     "output_type": "display_data"
    }
   ],
   "source": [
    "#visualizing our fit\n",
    "plt.plot(X,y,'rx')\n",
    "plt.plot(X,x@theta,'--')\n",
    "plt.xlabel('population')\n",
    "plt.ylabel('profit')\n",
    "plt.title('population_vs_profit')\n",
    "plt.grid()\n",
    "plt.show()"
   ]
  },
  {
   "cell_type": "code",
   "execution_count": 307,
   "id": "501342e1",
   "metadata": {},
   "outputs": [
    {
     "data": {
      "text/plain": [
       "array([5.74489675])"
      ]
     },
     "execution_count": 307,
     "metadata": {},
     "output_type": "execute_result"
    }
   ],
   "source": [
    "(x@theta)[1]"
   ]
  },
  {
   "cell_type": "code",
   "execution_count": 308,
   "id": "8e4e5961",
   "metadata": {},
   "outputs": [
    {
     "data": {
      "image/png": "[encoded data removed]",
      "text/plain": [
       "<Figure size 640x480 with 1 Axes>"
      ]
     },
     "metadata": {},
     "output_type": "display_data"
    }
   ],
   "source": [
    "plt.xlabel('iteration')\n",
    "plt.ylabel('cost')\n",
    "plt.title('iteration_vs_cost')\n",
    "for i in range (0,200):\n",
    "    #print(J[i])\n",
    "    plt.plot(i,J[i],'.',)"
   ]
  }
 ],
 "metadata": {
  "kernelspec": {
   "display_name": "Python 3 (ipykernel)",
   "language": "python",
   "name": "python3"
  },
  "language_info": {
   "codemirror_mode": {
    "name": "ipython",
    "version": 3
   },
   "file_extension": ".py",
   "mimetype": "text/x-python",
   "name": "python",
   "nbconvert_exporter": "python",
   "pygments_lexer": "ipython3",
   "version": "3.11.6"
  }
 },
 "nbformat": 4,
 "nbformat_minor": 5
}
